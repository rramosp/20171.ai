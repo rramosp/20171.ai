{
 "cells": [
  {
   "cell_type": "code",
   "execution_count": 1,
   "metadata": {
    "collapsed": true
   },
   "outputs": [],
   "source": [
    "import numpy as np\n",
    "import matplotlib.pyplot as plt\n",
    "%matplotlib inline"
   ]
  },
  {
   "cell_type": "markdown",
   "metadata": {},
   "source": [
    "## Representación de Imágenes"
   ]
  },
  {
   "cell_type": "code",
   "execution_count": 2,
   "metadata": {
    "collapsed": false
   },
   "outputs": [
    {
     "name": "stdout",
     "output_type": "stream",
     "text": [
      "dimension de las imagenes y las clases (1500, 784) (1500,)\n"
     ]
    }
   ],
   "source": [
    "mnist = np.loadtxt(\"data/mnist1.5k.csv\", delimiter=\",\")\n",
    "d=mnist[:,1:785]\n",
    "c=mnist[:,0]\n",
    "print \"dimension de las imagenes y las clases\", d.shape, c.shape"
   ]
  },
  {
   "cell_type": "markdown",
   "metadata": {},
   "source": [
    "Representamos una imagen por el histograma de grises. Es decir, por un vector de 255 valores conteniendo cuantos píxeles contiene la imagen de cada intensidad."
   ]
  },
  {
   "cell_type": "code",
   "execution_count": 4,
   "metadata": {
    "collapsed": false
   },
   "outputs": [
    {
     "name": "stdout",
     "output_type": "stream",
     "text": [
      "[597   0   0   1   0   0   0   1   1   2   1   0   0   0   0   0   0   1\n",
      "   0   2   0   0   1   0   0   0   0   0   1   2   1   1   4   3   1   5\n",
      "   2   0   1   0   1   0   0   0   0   0   1   0   2   3   0   0   0   0\n",
      "   1   0   0   0   1   0   0   0   0   2   0   0   0   0   1   1   0   0\n",
      "   0   0   0   0   0   0   1   0   0   0   0   0   0   0   0   0   0   0\n",
      "   1   0   0   0   0   0   0   0   0   0   0   0   0   0   0   0   0   0\n",
      "   1   1   2   0   1   0   0   0   0   0   0   0   0   0   0   0   2   1\n",
      "   0   0   1   0   1   1   0   0   0   0   0   0   0   0   0   1   0   2\n",
      "   1   3   0   1   0   1   1   2   0   0   0   0   1   0   0   0   1   0\n",
      "   0   0   1   0   0   0   0   1   0   0   0   0   0   0   0   0   0   1\n",
      "   0   0   0   0   1   0   0   1   0   0   0   0   0   0   0   1   1   0\n",
      "   0   0   0   0   0   0   0   1   2   0   0   0   1   0   0   1   0   3\n",
      "   0   0   2   0   0   1   0   0   0   0   0   1   2   0   1   1   1   0\n",
      "   1   0   3   1   1   1   4   1   1   1   1   0   0   0   1   2   1   0\n",
      "   1  69   3]\n"
     ]
    },
    {
     "data": {
      "image/png": "[encoded data removed]",
      "text/plain": [
       "<matplotlib.figure.Figure at 0x7f4e3bc690d0>"
      ]
     },
     "metadata": {},
     "output_type": "display_data"
    },
    {
     "data": {
      "image/png": "[encoded data removed]",
      "text/plain": [
       "<matplotlib.figure.Figure at 0x7f4e67ac7a10>"
      ]
     },
     "metadata": {},
     "output_type": "display_data"
    }
   ],
   "source": [
    "random_idx = np.random.randint(d.shape[0])\n",
    "print np.histogram(d[random_idx], bins=255)[0]\n",
    "plt.imshow(d[random_idx].reshape(28,28),interpolation=\"nearest\", cmap = plt.cm.Greys_r)\n",
    "plt.figure()\n",
    "plt.hist(d[random_idx], bins=255);"
   ]
  },
  {
   "cell_type": "markdown",
   "metadata": {},
   "source": [
    "Convertimos cada imagen a un histograma de grises"
   ]
  },
  {
   "cell_type": "code",
   "execution_count": 5,
   "metadata": {
    "collapsed": false
   },
   "outputs": [
    {
     "name": "stdout",
     "output_type": "stream",
     "text": [
      "(1500, 255)\n"
     ]
    }
   ],
   "source": [
    "d_hist = np.zeros((d.shape[0], 255))\n",
    "for i in range(d.shape[0]):\n",
    "    d_hist[i] = np.histogram(d[i], bins=255)[0]\n",
    "print d_hist.shape"
   ]
  },
  {
   "cell_type": "markdown",
   "metadata": {},
   "source": [
    "Hacemos una descomposición en cien valores singulares. Se calcula cuales son las 100 métricas de cada imagen que son estadísticamente más significativas."
   ]
  },
  {
   "cell_type": "code",
   "execution_count": 9,
   "metadata": {
    "collapsed": false
   },
   "outputs": [
    {
     "name": "stdout",
     "output_type": "stream",
     "text": [
      "(1500, 100)\n"
     ]
    }
   ],
   "source": [
    "import scipy.linalg as la\n",
    "\n",
    "(U,s,V)=la.svd(d)\n",
    "d_svd = U[:,0:100]\n",
    "print d_svd.shape"
   ]
  },
  {
   "cell_type": "markdown",
   "metadata": {},
   "source": [
    "Clasificamos con los pixeles originales"
   ]
  },
  {
   "cell_type": "code",
   "execution_count": 6,
   "metadata": {
    "collapsed": false
   },
   "outputs": [
    {
     "name": "stdout",
     "output_type": "stream",
     "text": [
      "acierto en train 0.671666666667\n",
      "acierto en test  0.593333333333\n"
     ]
    },
    {
     "name": "stderr",
     "output_type": "stream",
     "text": [
      "/opt/anaconda/lib/python2.7/site-packages/sklearn/cross_validation.py:44: DeprecationWarning: This module was deprecated in version 0.18 in favor of the model_selection module into which all the refactored classes and functions are moved. Also note that the interface of the new CV iterators are different from that of this module. This module will be removed in 0.20.\n",
      "  \"This module will be removed in 0.20.\", DeprecationWarning)\n"
     ]
    }
   ],
   "source": [
    "from sklearn.naive_bayes import GaussianNB\n",
    "from sklearn import cross_validation\n",
    "\n",
    "test_size = 0.2\n",
    "\n",
    "d_train, d_test, c_train, c_test = cross_validation.train_test_split(d, \n",
    "                                                                     c, \n",
    "                                                                     test_size=test_size, \n",
    "                                                                     random_state=np.random.randint(1,100))\n",
    "g = GaussianNB()\n",
    "g.fit(d_train, c_train)\n",
    "print \"acierto en train\", g.score(d_train, c_train)\n",
    "print \"acierto en test \", g.score(d_test, c_test)"
   ]
  },
  {
   "cell_type": "markdown",
   "metadata": {},
   "source": [
    "Clasificamos con el histograma. Funciona mucho peor, parece que perdemos demasiada información al representar las imágenes de esta manera."
   ]
  },
  {
   "cell_type": "code",
   "execution_count": 7,
   "metadata": {
    "collapsed": false
   },
   "outputs": [
    {
     "name": "stdout",
     "output_type": "stream",
     "text": [
      "acierto en train 0.548333333333\n",
      "acierto en test  0.216666666667\n"
     ]
    }
   ],
   "source": [
    "d_train, d_test, c_train, c_test = cross_validation.train_test_split(d_hist, \n",
    "                                                                     c, \n",
    "                                                                     test_size=test_size, \n",
    "                                                                     random_state=np.random.randint(1,100))\n",
    "g = GaussianNB()\n",
    "g.fit(d_train, c_train)\n",
    "print \"acierto en train\", g.score(d_train, c_train)\n",
    "print \"acierto en test \", g.score(d_test, c_test)"
   ]
  },
  {
   "cell_type": "markdown",
   "metadata": {},
   "source": [
    "Clasificamos con la descomposición en valores singulares. Funciona mucho mejor, esta representación parece que preserva y resalta información importante de las imágenes. "
   ]
  },
  {
   "cell_type": "code",
   "execution_count": 10,
   "metadata": {
    "collapsed": false
   },
   "outputs": [
    {
     "name": "stdout",
     "output_type": "stream",
     "text": [
      "acierto en train 0.905\n",
      "acierto en test  0.813333333333\n"
     ]
    }
   ],
   "source": [
    "test_size = 0.2\n",
    "\n",
    "d_train, d_test, c_train, c_test = cross_validation.train_test_split(d_svd, \n",
    "                                                                     c, \n",
    "                                                                     test_size=test_size, \n",
    "                                                                     random_state=np.random.randint(1,100))\n",
    "g = GaussianNB()\n",
    "g.fit(d_train, c_train)\n",
    "print \"acierto en train\", g.score(d_train, c_train)\n",
    "print \"acierto en test \", g.score(d_test, c_test)"
   ]
  },
  {
   "cell_type": "code",
   "execution_count": null,
   "metadata": {
    "collapsed": true
   },
   "outputs": [],
   "source": [
    "t"
   ]
  }
 ],
 "metadata": {
  "anaconda-cloud": {},
  "kernelspec": {
   "display_name": "Python [default]",
   "language": "python",
   "name": "python2"
  },
  "language_info": {
   "codemirror_mode": {
    "name": "ipython",
    "version": 2
   },
   "file_extension": ".py",
   "mimetype": "text/x-python",
   "name": "python",
   "nbconvert_exporter": "python",
   "pygments_lexer": "ipython2",
   "version": "2.7.12"
  },
  "toc": {
   "toc_cell": false,
   "toc_number_sections": true,
   "toc_threshold": 6,
   "toc_window_display": false
  }
 },
 "nbformat": 4,
 "nbformat_minor": 0
}
